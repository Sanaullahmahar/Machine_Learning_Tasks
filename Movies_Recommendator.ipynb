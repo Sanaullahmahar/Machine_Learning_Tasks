{
 "cells": [
  {
   "cell_type": "code",
   "execution_count": 1,
   "id": "81c56b5e-9fd4-4b3b-ba90-eb49b2fda560",
   "metadata": {},
   "outputs": [],
   "source": [
    "import pandas as pd\n",
    "import numpy as np\n",
    "from sklearn.metrics.pairwise import cosine_similarity\n",
    "from sklearn.metrics import precision_score\n",
    "from sklearn.model_selection import train_test_split\n",
    "from scipy.sparse.linalg import svds\n"
   ]
  },
  {
   "cell_type": "code",
   "execution_count": 3,
   "id": "7490f78d-2d02-40ed-8a08-7568b14a45e0",
   "metadata": {},
   "outputs": [],
   "source": [
    "ratings = pd.read_csv('u.data', sep='\\t', names=['user_id', 'movie_id', 'rating', 'timestamp'])\n",
    "ratings.drop('timestamp', axis=1, inplace=True)\n"
   ]
  },
  {
   "cell_type": "code",
   "execution_count": 4,
   "id": "550df7c0-8d87-4e10-9824-264706d7abd4",
   "metadata": {},
   "outputs": [],
   "source": [
    "user_item_matrix = ratings.pivot(index='user_id', columns='movie_id', values='rating')\n"
   ]
  },
  {
   "cell_type": "code",
   "execution_count": 5,
   "id": "99391437-5d88-49e5-ba85-b1d2b7b81327",
   "metadata": {},
   "outputs": [],
   "source": [
    "user_similarity = cosine_similarity(user_item_matrix.fillna(0))\n",
    "user_similarity_df = pd.DataFrame(user_similarity, index=user_item_matrix.index, columns=user_item_matrix.index)\n"
   ]
  },
  {
   "cell_type": "code",
   "execution_count": 6,
   "id": "25dea67e-c79e-4e33-8711-d7d60f2de6ac",
   "metadata": {},
   "outputs": [],
   "source": [
    "def recommend_movies(user_id, k=5):\n",
    "    similar_users = user_similarity_df[user_id].sort_values(ascending=False)[1:]\n",
    "    weighted_ratings = pd.Series(dtype=float)\n",
    "\n",
    "    for sim_user, similarity in similar_users.items():\n",
    "        user_ratings = user_item_matrix.loc[sim_user].dropna()\n",
    "        for movie, rating in user_ratings.items():\n",
    "            if pd.isna(user_item_matrix.loc[user_id, movie]):\n",
    "                weighted_ratings[movie] = weighted_ratings.get(movie, 0) + rating * similarity\n",
    "\n",
    "    recommended_movies = weighted_ratings.sort_values(ascending=False).head(k)\n",
    "    return recommended_movies\n"
   ]
  },
  {
   "cell_type": "code",
   "execution_count": 7,
   "id": "589c9f96-18fe-4bbd-8447-c91ff3f9fcfd",
   "metadata": {},
   "outputs": [],
   "source": [
    "def precision_at_k(user_id, k=5, test_data=None):\n",
    "    recommended = recommend_movies(user_id, k).index\n",
    "    actual = test_data[test_data.user_id == user_id].movie_id.values\n",
    "    relevant = set(recommended).intersection(set(actual))\n",
    "    return len(relevant) / k\n"
   ]
  },
  {
   "cell_type": "code",
   "execution_count": 8,
   "id": "609b8334-6e6c-4edc-a548-41b1a29b5b3b",
   "metadata": {},
   "outputs": [],
   "source": [
    "item_similarity = cosine_similarity(user_item_matrix.T.fillna(0))\n",
    "item_similarity_df = pd.DataFrame(item_similarity, index=user_item_matrix.columns, columns=user_item_matrix.columns)\n",
    "\n",
    "def item_based_recommend(user_id, k=5):\n",
    "    user_ratings = user_item_matrix.loc[user_id]\n",
    "    scores = pd.Series(dtype=float)\n",
    "\n",
    "    for movie, rating in user_ratings.dropna().items():\n",
    "        similar_scores = item_similarity_df[movie] * rating\n",
    "        scores = scores.add(similar_scores, fill_value=0)\n",
    "\n",
    "    scores = scores.drop(user_ratings.dropna().index)\n",
    "    return scores.sort_values(ascending=False).head(k)\n"
   ]
  },
  {
   "cell_type": "code",
   "execution_count": 9,
   "id": "61d4a7db-9d6a-4a5f-b375-e05ca0506a09",
   "metadata": {},
   "outputs": [],
   "source": [
    "R = user_item_matrix.fillna(0).values\n",
    "user_ratings_mean = np.mean(R, axis=1)\n",
    "R_demeaned = R - user_ratings_mean.reshape(-1, 1)\n",
    "\n",
    "U, sigma, Vt = svds(R_demeaned, k=20)\n",
    "sigma = np.diag(sigma)\n",
    "\n",
    "predicted_ratings = np.dot(np.dot(U, sigma), Vt) + user_ratings_mean.reshape(-1, 1)\n",
    "predicted_df = pd.DataFrame(predicted_ratings, index=user_item_matrix.index, columns=user_item_matrix.columns)\n",
    "\n",
    "def svd_recommend(user_id, k=5):\n",
    "    user_row = predicted_df.loc[user_id]\n",
    "    known_movies = user_item_matrix.loc[user_id].dropna().index\n",
    "    recommendations = user_row.drop(index=known_movies).sort_values(ascending=False).head(k)\n",
    "    return recommendations\n"
   ]
  },
  {
   "cell_type": "code",
   "execution_count": 10,
   "id": "bf9c59d4-8a4c-4cf0-81ea-09f36796fe06",
   "metadata": {},
   "outputs": [
    {
     "name": "stdout",
     "output_type": "stream",
     "text": [
      "Top 5 User-Based Recommended Movies for User 10:\n",
      "181    534.991466\n",
      "172    485.604806\n",
      "204    435.395734\n",
      "318    434.517064\n",
      "79     428.884302\n",
      "dtype: float64\n"
     ]
    }
   ],
   "source": [
    "recommended = recommend_movies(user_id=10, k=5)\n",
    "print(\"Top 5 User-Based Recommended Movies for User 10:\")\n",
    "print(recommended)\n"
   ]
  },
  {
   "cell_type": "code",
   "execution_count": 11,
   "id": "086dbb0e-123d-44ad-a65d-6a6f4cc80b47",
   "metadata": {},
   "outputs": [
    {
     "name": "stdout",
     "output_type": "stream",
     "text": [
      "Top 5 Item-Based Recommended Movies for User 10:\n",
      "movie_id\n",
      "204    327.715430\n",
      "423    318.155628\n",
      "172    317.498715\n",
      "89     312.632345\n",
      "79     311.699217\n",
      "dtype: float64\n"
     ]
    }
   ],
   "source": [
    "item_rec = item_based_recommend(user_id=10, k=5)\n",
    "print(\"Top 5 Item-Based Recommended Movies for User 10:\")\n",
    "print(item_rec)\n"
   ]
  },
  {
   "cell_type": "code",
   "execution_count": 12,
   "id": "17a4e3eb-82b3-4867-8d82-5d02a3d53337",
   "metadata": {},
   "outputs": [
    {
     "name": "stdout",
     "output_type": "stream",
     "text": [
      "Top 5 SVD Recommended Movies for User 10:\n",
      "movie_id\n",
      "514    3.975967\n",
      "187    3.841146\n",
      "318    3.830776\n",
      "427    3.821485\n",
      "8      3.339764\n",
      "Name: 10, dtype: float64\n"
     ]
    }
   ],
   "source": [
    "svd_rec = svd_recommend(user_id=10, k=5)\n",
    "print(\"Top 5 SVD Recommended Movies for User 10:\")\n",
    "print(svd_rec)\n"
   ]
  },
  {
   "cell_type": "code",
   "execution_count": 14,
   "id": "a211a96c-003c-40cc-ab00-9be00397efd5",
   "metadata": {},
   "outputs": [
    {
     "name": "stdout",
     "output_type": "stream",
     "text": [
      "                             title           0\n",
      "0        Return of the Jedi (1983)  534.991466\n",
      "1  Empire Strikes Back, The (1980)  485.604806\n",
      "2        Back to the Future (1985)  435.395734\n",
      "3          Schindler's List (1993)  434.517064\n",
      "4             Fugitive, The (1993)  428.884302\n"
     ]
    }
   ],
   "source": [
    "movies = pd.read_csv('u.item', sep='|', encoding='latin-1', header=None, usecols=[0, 1], names=['movie_id', 'title'])\n",
    "\n",
    "# Merge to get titles for user-based recommendations\n",
    "recommended_df = recommended.reset_index().rename(columns={'index': 'movie_id'})\n",
    "recommended_with_titles = pd.merge(recommended_df, movies, on='movie_id')\n",
    "print(recommended_with_titles[['title', 0]])\n"
   ]
  }
 ],
 "metadata": {
  "kernelspec": {
   "display_name": "Python 3 (ipykernel)",
   "language": "python",
   "name": "python3"
  },
  "language_info": {
   "codemirror_mode": {
    "name": "ipython",
    "version": 3
   },
   "file_extension": ".py",
   "mimetype": "text/x-python",
   "name": "python",
   "nbconvert_exporter": "python",
   "pygments_lexer": "ipython3",
   "version": "3.13.5"
  }
 },
 "nbformat": 4,
 "nbformat_minor": 5
}
